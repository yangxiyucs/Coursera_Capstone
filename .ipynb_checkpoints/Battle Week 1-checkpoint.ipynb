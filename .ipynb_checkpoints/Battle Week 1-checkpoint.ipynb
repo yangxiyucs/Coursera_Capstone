{
 "cells": [
  {
   "cell_type": "markdown",
   "metadata": {},
   "source": [
    "<H1>Applied data science capston assignment 3 West Coast Vacation</H1>"
   ]
  },
  {
   "cell_type": "code",
   "execution_count": null,
   "metadata": {},
   "outputs": [],
   "source": [
    "This is to find the best city for business start"
   ]
  },
  {
   "cell_type": "code",
   "execution_count": 2,
   "metadata": {},
   "outputs": [],
   "source": [
    "import numpy as np\n",
    "import pandas as pd\n",
    "pd.set_option('display.max_columns', None)\n",
    "pd.set_option('display.max_rows', None)\n",
    "import json\n",
    "from geopy.geocoders import Nominatim # convert an address into latitude and longitude values\n",
    "\n",
    "import requests # library to handle requests\n",
    "from pandas.io.json import json_normalize # tranform JSON file into a pandas dataframe\n",
    "\n",
    "# Matplotlib and associated plotting modules\n",
    "import matplotlib.cm as cm\n",
    "import matplotlib.colors as colors\n",
    "\n",
    "# import k-means from clustering stage\n",
    "from sklearn.cluster import KMeans\n",
    "\n",
    "#!conda install -c conda-forge folium=0.5.0 --yes # uncomment this line if you haven't completed the Foursquare API lab\n",
    "import folium # map rendering library"
   ]
  },
  {
   "cell_type": "code",
   "execution_count": 3,
   "metadata": {},
   "outputs": [
    {
     "name": "stdout",
     "output_type": "stream",
     "text": [
      "The geograpical coordinate of San Francisco are 37.7792808, -122.4192363.\n"
     ]
    }
   ],
   "source": [
    "\n",
    "address_sf = 'San Francisco, CA, US'\n",
    "\n",
    "geolocator_sf = Nominatim(user_agent=\"sf_explorer\")\n",
    "location_sf = geolocator_sf.geocode(address_sf)\n",
    "latitude_sf = location_sf.latitude\n",
    "longitude_sf = location_sf.longitude\n",
    "print('The geograpical coordinate of San Francisco are {}, {}.'.format(latitude_sf, longitude_sf))"
   ]
  },
  {
   "cell_type": "code",
   "execution_count": 4,
   "metadata": {},
   "outputs": [
    {
     "name": "stdout",
     "output_type": "stream",
     "text": [
      "The geograpical coordinate of Los Angeles are 34.0536834, -118.2427669.\n"
     ]
    }
   ],
   "source": [
    "address_la = 'Los Angeles, CA'\n",
    "\n",
    "geolocator_la = Nominatim(user_agent=\"la_explorer\")\n",
    "location_la = geolocator_la.geocode(address_la)\n",
    "latitude_la = location_la.latitude\n",
    "longitude_la = location_la.longitude\n",
    "print('The geograpical coordinate of Los Angeles are {}, {}.'.format(latitude_la, longitude_la))"
   ]
  },
  {
   "cell_type": "code",
   "execution_count": 7,
   "metadata": {},
   "outputs": [
    {
     "name": "stdout",
     "output_type": "stream",
     "text": [
      "The geograpical coordinate of San Diego are 32.7174209, -117.1627714.\n"
     ]
    }
   ],
   "source": [
    "address_sd = 'San Diego, CA'\n",
    "\n",
    "geolocator_sd = Nominatim(user_agent=\"sd_explorer\")\n",
    "location_sd = geolocator_sd.geocode(address_sd)\n",
    "latitude_sd = location_sd.latitude\n",
    "longitude_sd = location_sd.longitude\n",
    "print('The geograpical coordinate of San Diego are {}, {}.'.format(latitude_sd, longitude_sd))"
   ]
  },
  {
   "cell_type": "markdown",
   "metadata": {},
   "source": [
    "<h1>Explore the neighbors</h1>"
   ]
  },
  {
   "cell_type": "code",
   "execution_count": 5,
   "metadata": {},
   "outputs": [],
   "source": [
    "from bs4 import BeautifulSoup\n",
    "import requests"
   ]
  },
  {
   "cell_type": "code",
   "execution_count": 6,
   "metadata": {},
   "outputs": [],
   "source": [
    "\n",
    "source_sf = requests.get('https://en.wikipedia.org/wiki/List_of_neighborhoods_in_San_Francisco').text\n",
    "source_la = requests.get('https://en.wikipedia.org/wiki/List_of_districts_and_neighborhoods_of_Los_Angeles').text\n",
    "source_sd = requests.get('https://en.wikipedia.org/wiki/List_of_communities_and_neighborhoods_of_San_Diego').text"
   ]
  },
  {
   "cell_type": "code",
   "execution_count": null,
   "metadata": {},
   "outputs": [],
   "source": [
    "soup_sf = BeautifulSoup(source_sf, 'lxml')\n",
    "sf_hood_list = soup_sf.find_all('h2')\n",
    "\n",
    "tag_list =[]\n",
    "for tag in sf_hood_list:\n",
    "    tag_list.append(tag.text)\n",
    "tag_list = tag_list[1:-4]\n",
    "sf_list = []\n",
    "for item in tag_list:\n",
    "    sf_list.append(item[0:-6])"
   ]
  },
  {
   "cell_type": "code",
   "execution_count": null,
   "metadata": {},
   "outputs": [],
   "source": [
    "sf_coordinates = pd.DataFrame(sf_list, columns =['Neighbourhood'])\n",
    "\n",
    "sf_coordinates['Latitude']=0\n",
    "sf_coordinates['Longitude']=0\n",
    "for item in sf_coordinates['Neighbourhood']:\n",
    "    address = '{}, San Francisco, CA, US'.format(item)\n",
    "    geolocator_sf = Nominatim(user_agent=\"sf_explorer\")\n",
    "    location_sf = geolocator_sf.geocode(address)\n",
    "    if location_sf is not None:\n",
    "        sf_coordinates['Latitude'].loc[sf_coordinates['Neighbourhood']==item] = location_sf.latitude\n",
    "        sf_coordinates['Longitude'].loc[sf_coordinates['Neighbourhood']==item] = location_sf.longitude\n",
    "sf_coordinates.head()\n"
   ]
  },
  {
   "cell_type": "markdown",
   "metadata": {},
   "source": [
    "drops the areas not in san_francisco"
   ]
  },
  {
   "cell_type": "code",
   "execution_count": 8,
   "metadata": {},
   "outputs": [
    {
     "ename": "NameError",
     "evalue": "name 'sf_coordinates' is not defined",
     "output_type": "error",
     "traceback": [
      "\u001b[1;31m---------------------------------------------------------------------------\u001b[0m",
      "\u001b[1;31mNameError\u001b[0m                                 Traceback (most recent call last)",
      "\u001b[1;32m<ipython-input-8-21563cb1a96f>\u001b[0m in \u001b[0;36m<module>\u001b[1;34m\u001b[0m\n\u001b[0;32m      1\u001b[0m \u001b[1;33m\u001b[0m\u001b[0m\n\u001b[1;32m----> 2\u001b[1;33m \u001b[0msf_coordinates\u001b[0m \u001b[1;33m=\u001b[0m \u001b[0msf_coordinates\u001b[0m\u001b[1;33m[\u001b[0m\u001b[0msf_coordinates\u001b[0m\u001b[1;33m[\u001b[0m\u001b[1;34m'Latitude'\u001b[0m\u001b[1;33m]\u001b[0m\u001b[1;33m!=\u001b[0m\u001b[1;36m0\u001b[0m\u001b[1;33m]\u001b[0m\u001b[1;33m.\u001b[0m\u001b[0miloc\u001b[0m\u001b[1;33m[\u001b[0m\u001b[1;33m:\u001b[0m\u001b[1;33m-\u001b[0m\u001b[1;36m1\u001b[0m\u001b[1;33m,\u001b[0m \u001b[1;33m:\u001b[0m\u001b[1;33m]\u001b[0m\u001b[1;33m\u001b[0m\u001b[1;33m\u001b[0m\u001b[0m\n\u001b[0m\u001b[0;32m      3\u001b[0m \u001b[0msf_coordinates\u001b[0m\u001b[1;33m\u001b[0m\u001b[1;33m\u001b[0m\u001b[0m\n",
      "\u001b[1;31mNameError\u001b[0m: name 'sf_coordinates' is not defined"
     ]
    }
   ],
   "source": [
    "\n",
    "sf_coordinates = sf_coordinates[sf_coordinates['Latitude']!=0].iloc[:-1, :]\n",
    "sf_coordinates"
   ]
  },
  {
   "cell_type": "markdown",
   "metadata": {},
   "source": [
    " we got it! Let's move on to Los Angeles"
   ]
  },
  {
   "cell_type": "code",
   "execution_count": null,
   "metadata": {},
   "outputs": [],
   "source": [
    "soup_la = BeautifulSoup(source_la, 'lxml')\n",
    "la_hood_list = soup_la.find_all('li',attrs= {'class':None, 'id': None})\n",
    "tag_list = []\n",
    "for hood in la_hood_list:\n",
    "    tag_list.append(hood.text)\n",
    "tag_list = tag_list[:-40]\n",
    "clean_la_list = []\n",
    "for tag in tag_list:\n",
    "    clean_la_list.append(tag.split('[')[0])\n",
    "    "
   ]
  },
  {
   "cell_type": "markdown",
   "metadata": {},
   "source": [
    "Now that we have a list of LA neighbourhoods we can put them in a dataframe and then find their coordinates like we did with San Francisco"
   ]
  },
  {
   "cell_type": "code",
   "execution_count": null,
   "metadata": {},
   "outputs": [],
   "source": [
    "la_coordinates = pd.DataFrame(clean_la_list, columns = ['Neighbourhood'])"
   ]
  },
  {
   "cell_type": "code",
   "execution_count": null,
   "metadata": {},
   "outputs": [],
   "source": [
    "la_coordinates['Latitude']=0\n",
    "la_coordinates['Longitude']=0\n",
    "for item in la_coordinates['Neighbourhood']:\n",
    "    address = '{}, Los Angeles, CA, US'.format(item)\n",
    "    geolocator_la = Nominatim(user_agent=\"la_explorer\")\n",
    "    location_la = geolocator_la.geocode(address)\n",
    "    if location_la is not None:\n",
    "        la_coordinates['Latitude'].loc[la_coordinates['Neighbourhood']==item] = location_la.latitude\n",
    "        la_coordinates['Longitude'].loc[la_coordinates['Neighbourhood']==item] = location_la.longitude\n",
    "        \n",
    "la_coordinates = la_coordinates[la_coordinates['Latitude']!=0]\n",
    "la_coordinates"
   ]
  },
  {
   "cell_type": "markdown",
   "metadata": {},
   "source": [
    "Getting location data for San Diego"
   ]
  },
  {
   "cell_type": "code",
   "execution_count": null,
   "metadata": {},
   "outputs": [],
   "source": [
    "soup_sd = BeautifulSoup(source_sd, 'lxml')\n",
    "sd_hood_list = soup_sd.find_all('li', attrs = {'class':None, 'id':None})\n",
    "tag_list = []\n",
    "for hood in sd_hood_list:\n",
    "    tag_list.append(hood.text)"
   ]
  },
  {
   "cell_type": "code",
   "execution_count": null,
   "metadata": {},
   "outputs": [],
   "source": [
    "cleaner_list = tag_list[-139:-22]"
   ]
  },
  {
   "cell_type": "code",
   "execution_count": null,
   "metadata": {},
   "outputs": [],
   "source": [
    "sd_list = []\n",
    "for entry in cleaner_list:\n",
    "    if '(' in entry:\n",
    "        sd_list.append(entry.split('(')[0])\n",
    "    elif ')' in entry:\n",
    "        sd_list.append(entry.split(')')[0])\n",
    "    else:\n",
    "        sd_list.append(entry)"
   ]
  },
  {
   "cell_type": "code",
   "execution_count": null,
   "metadata": {},
   "outputs": [],
   "source": []
  }
 ],
 "metadata": {
  "kernelspec": {
   "display_name": "Python note",
   "language": "python",
   "name": "note"
  },
  "language_info": {
   "codemirror_mode": {
    "name": "ipython",
    "version": 3
   },
   "file_extension": ".py",
   "mimetype": "text/x-python",
   "name": "python",
   "nbconvert_exporter": "python",
   "pygments_lexer": "ipython3",
   "version": "3.6.8"
  }
 },
 "nbformat": 4,
 "nbformat_minor": 2
}
