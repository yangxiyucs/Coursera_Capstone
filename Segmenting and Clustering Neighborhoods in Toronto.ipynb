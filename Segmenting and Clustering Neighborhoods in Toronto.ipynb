{
 "cells": [
  {
   "cell_type": "markdown",
   "metadata": {},
   "source": [
    "<H1>Segmenting and Clustering Neighborhoods in Toronto</H1>"
   ]
  },
  {
   "cell_type": "code",
   "execution_count": 1,
   "metadata": {},
   "outputs": [],
   "source": [
    "import numpy as np\n",
    "import requests\n",
    "from bs4 import BeautifulSoup\n",
    "import lxml"
   ]
  },
  {
   "cell_type": "code",
   "execution_count": 5,
   "metadata": {},
   "outputs": [
    {
     "data": {
      "text/plain": [
       "(103, 3)"
      ]
     },
     "execution_count": 5,
     "metadata": {},
     "output_type": "execute_result"
    }
   ],
   "source": [
    "from pandas.core.frame import DataFrame\n",
    "html_page = requests.get('https://en.wikipedia.org/wiki/List_of_postal_codes_of_Canada:_M')\n",
    "html_content = html_page.text\n",
    "soup = BeautifulSoup(html_content, 'lxml')\n",
    "# print(soup.prettify())\n",
    "all = []\n",
    "content = []\n",
    "\n",
    "body = soup.find('tbody')\n",
    "\n",
    "for tr in body.find_all('tr'):\n",
    "  for td in tr.find_all('td'):\n",
    "     content.append(td.text.strip('\\n'))\n",
    "  all.append(content)\n",
    "  content=[]\n",
    "\n",
    "df = DataFrame(all)\n",
    "# a = df.rename(columns = {0:'Postcode',1:'Borough', 2:'Neighbourhood'}, inplace=True)\n",
    "df.columns = ['Postcode','Borough','Neighbourhood']\n",
    "\n",
    "# print(df)\n",
    "a = df[df.Borough != 'Not assigned']\n",
    "a = a[1:]\n",
    "# print(a)\n",
    "data1 = a.groupby(['Postcode', 'Borough'])['Neighbourhood'].apply(list).apply(lambda x:', '.join(x)).to_frame().reset_index()\n",
    "# printrint(data1)\n",
    "# data1.shape\n",
    "# df.head(10)\n",
    "#assign the name of borough to neighborhood with no assigned name\n",
    "for index, row in data1.iterrows():\n",
    "    if row['Neighbourhood'] == 'Not assigned':\n",
    "        row['Neighbourhood'] = row['Borough']\n",
    "data1\n",
    "data1.shape"
   ]
  },
  {
   "cell_type": "code",
   "execution_count": null,
   "metadata": {},
   "outputs": [],
   "source": []
  }
 ],
 "metadata": {
  "kernelspec": {
   "display_name": "Python note",
   "language": "python",
   "name": "note"
  },
  "language_info": {
   "codemirror_mode": {
    "name": "ipython",
    "version": 3
   },
   "file_extension": ".py",
   "mimetype": "text/x-python",
   "name": "python",
   "nbconvert_exporter": "python",
   "pygments_lexer": "ipython3",
   "version": "3.6.8"
  }
 },
 "nbformat": 4,
 "nbformat_minor": 2
}
